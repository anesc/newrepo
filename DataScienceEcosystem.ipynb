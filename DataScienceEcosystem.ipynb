{
 "cells": [
  {
   "cell_type": "markdown",
   "id": "e3d39c50-70c4-42a6-b699-896815c01cc5",
   "metadata": {},
   "source": [
    "# Data Science Tools and Ecosystem"
   ]
  },
  {
   "cell_type": "markdown",
   "id": "ca69f1f5-2dd6-4e68-a393-0bf6575bd7d2",
   "metadata": {},
   "source": [
    "In this notebook, Data Science Tools and Ecosystem are summarized."
   ]
  },
  {
   "cell_type": "markdown",
   "id": "f70d8096-c62d-474b-bab4-2c8192ef9432",
   "metadata": {},
   "source": [
    "**Objectives:**\n",
    "- List popular languages for Data Science\n",
    "- Get to know popular languages for Data Science\n",
    "- Apply popular languages for Data Science"
   ]
  },
  {
   "cell_type": "markdown",
   "id": "c34ae9af-f5f8-4e18-8c9b-e766f58c8941",
   "metadata": {},
   "source": [
    "Some of the popular languages that Data Scientists use are:\n",
    "1. Julia\n",
    "2. Python\n",
    "3. R"
   ]
  },
  {
   "cell_type": "markdown",
   "id": "5eaf849c-1b3e-416d-81d1-081c99db72fd",
   "metadata": {},
   "source": [
    "Some of the commonly used libraries used by Data Scientists include:\n",
    "1. NumPy\n",
    "2. Pandas\n",
    "3. Matplotlib"
   ]
  },
  {
   "cell_type": "markdown",
   "id": "1a4f9d48-3f8c-4993-9420-177f22984c11",
   "metadata": {},
   "source": [
    "|Data Science Tools|\n",
    "|------------------|\n",
    "|Jupyter|\n",
    "|Apache|\n",
    "|R Studio|"
   ]
  },
  {
   "cell_type": "markdown",
   "id": "6e21e5b5-6a2a-4258-b977-1d851ba5ecb8",
   "metadata": {},
   "source": [
    "### Below are a few examples of evaluating arithmetic expressions in Python."
   ]
  },
  {
   "cell_type": "markdown",
   "id": "23680e1d-d9f8-4934-908a-b913a46e0ade",
   "metadata": {},
   "source": [
    "This a simple arithmetic expression to mutiply then add integers (3*4)+5"
   ]
  },
  {
   "cell_type": "code",
   "execution_count": 125,
   "id": "a8230d26-80df-4b15-bc4d-de629a89b1da",
   "metadata": {},
   "outputs": [],
   "source": [
    "x=(3*4)+5"
   ]
  },
  {
   "cell_type": "code",
   "execution_count": 127,
   "id": "5d88d023-b38c-422b-949f-eb940de494f7",
   "metadata": {},
   "outputs": [
    {
     "name": "stdout",
     "output_type": "stream",
     "text": [
      "The result is 17\n"
     ]
    }
   ],
   "source": [
    "print(\"The result is\", x)"
   ]
  },
  {
   "cell_type": "code",
   "execution_count": 129,
   "id": "09821038-5350-46b8-b28d-01f5aa14b3d2",
   "metadata": {},
   "outputs": [],
   "source": [
    "y=200//60"
   ]
  },
  {
   "cell_type": "code",
   "execution_count": 131,
   "id": "91d709b4-b175-48df-9ea6-0d46b7418b6a",
   "metadata": {},
   "outputs": [],
   "source": [
    "z=200%60"
   ]
  },
  {
   "cell_type": "markdown",
   "id": "2d2800ee-9a9b-4bfd-8c85-9eb18c8da6d7",
   "metadata": {},
   "source": [
    "This will convert 200 minutes to hours by diving by 60 "
   ]
  },
  {
   "cell_type": "code",
   "execution_count": 134,
   "id": "076aa0fb-e639-4b44-b77b-411d76c52abf",
   "metadata": {},
   "outputs": [
    {
     "name": "stdout",
     "output_type": "stream",
     "text": [
      "200 minutes is the same as 3 hours and 20 minutes\n"
     ]
    }
   ],
   "source": [
    "print(\"200 minutes is the same as\", y,\"hours and\", z,\"minutes\")"
   ]
  },
  {
   "cell_type": "markdown",
   "id": "7328105c-4819-4172-8881-508792f34571",
   "metadata": {},
   "source": [
    "## Author\n",
    "Ane Escala"
   ]
  },
  {
   "cell_type": "code",
   "execution_count": null,
   "id": "5c6d04ec-0386-46a0-bb15-d6532b9053ca",
   "metadata": {},
   "outputs": [],
   "source": []
  }
 ],
 "metadata": {
  "kernelspec": {
   "display_name": "Python 3 (ipykernel)",
   "language": "python",
   "name": "python3"
  },
  "language_info": {
   "codemirror_mode": {
    "name": "ipython",
    "version": 3
   },
   "file_extension": ".py",
   "mimetype": "text/x-python",
   "name": "python",
   "nbconvert_exporter": "python",
   "pygments_lexer": "ipython3",
   "version": "3.12.4"
  }
 },
 "nbformat": 4,
 "nbformat_minor": 5
}
